{
 "cells": [
  {
   "cell_type": "code",
   "execution_count": 2,
   "metadata": {},
   "outputs": [],
   "source": [
    "import pandas as pd"
   ]
  },
  {
   "cell_type": "code",
   "execution_count": 4,
   "metadata": {},
   "outputs": [
    {
     "data": {
      "text/html": [
       "<div>\n",
       "<style scoped>\n",
       "    .dataframe tbody tr th:only-of-type {\n",
       "        vertical-align: middle;\n",
       "    }\n",
       "\n",
       "    .dataframe tbody tr th {\n",
       "        vertical-align: top;\n",
       "    }\n",
       "\n",
       "    .dataframe thead th {\n",
       "        text-align: right;\n",
       "    }\n",
       "</style>\n",
       "<table border=\"1\" class=\"dataframe\">\n",
       "  <thead>\n",
       "    <tr style=\"text-align: right;\">\n",
       "      <th></th>\n",
       "      <th>Team</th>\n",
       "      <th>Game_ID</th>\n",
       "      <th>Points_Scored</th>\n",
       "      <th>Points_Allowed</th>\n",
       "      <th>Win</th>\n",
       "      <th>Field Goals Made</th>\n",
       "      <th>Field Goals Attempted</th>\n",
       "      <th>Free Throws Made</th>\n",
       "      <th>Free Throws Attempted</th>\n",
       "      <th>Three Point Made</th>\n",
       "      <th>...</th>\n",
       "      <th>Offensive_Efficiency_Allowed</th>\n",
       "      <th>Efficient Points Score_Allowed</th>\n",
       "      <th>Raw EOP_Allowed</th>\n",
       "      <th>Two Points Per Attempt_Allowed</th>\n",
       "      <th>Three Points Per Attempt_Allowed</th>\n",
       "      <th>Total Points Per Attempt_Allowed</th>\n",
       "      <th>Scoring_Possesions_Allowed</th>\n",
       "      <th>Team Play Percent_Allowed</th>\n",
       "      <th>Possesions_Allowed</th>\n",
       "      <th>Offensive_Efficieny_Difference</th>\n",
       "    </tr>\n",
       "  </thead>\n",
       "  <tbody>\n",
       "    <tr>\n",
       "      <th>0</th>\n",
       "      <td>Laconia</td>\n",
       "      <td>33023432</td>\n",
       "      <td>72</td>\n",
       "      <td>33</td>\n",
       "      <td>1</td>\n",
       "      <td>28</td>\n",
       "      <td>71</td>\n",
       "      <td>9</td>\n",
       "      <td>15</td>\n",
       "      <td>7</td>\n",
       "      <td>...</td>\n",
       "      <td>0.301587</td>\n",
       "      <td>21.714286</td>\n",
       "      <td>18.336508</td>\n",
       "      <td>0.476190</td>\n",
       "      <td>0.750000</td>\n",
       "      <td>0.594595</td>\n",
       "      <td>11.304762</td>\n",
       "      <td>0.167726</td>\n",
       "      <td>69.52</td>\n",
       "      <td>0.051354</td>\n",
       "    </tr>\n",
       "    <tr>\n",
       "      <th>1</th>\n",
       "      <td>Campbellsport</td>\n",
       "      <td>33023432</td>\n",
       "      <td>33</td>\n",
       "      <td>72</td>\n",
       "      <td>0</td>\n",
       "      <td>9</td>\n",
       "      <td>37</td>\n",
       "      <td>11</td>\n",
       "      <td>21</td>\n",
       "      <td>4</td>\n",
       "      <td>...</td>\n",
       "      <td>0.352941</td>\n",
       "      <td>11.647059</td>\n",
       "      <td>14.484706</td>\n",
       "      <td>0.976744</td>\n",
       "      <td>0.750000</td>\n",
       "      <td>0.887324</td>\n",
       "      <td>30.160000</td>\n",
       "      <td>0.354824</td>\n",
       "      <td>91.35</td>\n",
       "      <td>-0.051354</td>\n",
       "    </tr>\n",
       "    <tr>\n",
       "      <th>2</th>\n",
       "      <td>Laconia</td>\n",
       "      <td>33023434</td>\n",
       "      <td>87</td>\n",
       "      <td>41</td>\n",
       "      <td>1</td>\n",
       "      <td>33</td>\n",
       "      <td>59</td>\n",
       "      <td>9</td>\n",
       "      <td>15</td>\n",
       "      <td>12</td>\n",
       "      <td>...</td>\n",
       "      <td>0.205882</td>\n",
       "      <td>17.911765</td>\n",
       "      <td>14.708235</td>\n",
       "      <td>0.823529</td>\n",
       "      <td>0.857143</td>\n",
       "      <td>0.829268</td>\n",
       "      <td>17.400000</td>\n",
       "      <td>0.227154</td>\n",
       "      <td>76.70</td>\n",
       "      <td>0.131618</td>\n",
       "    </tr>\n",
       "    <tr>\n",
       "      <th>3</th>\n",
       "      <td>Lomira</td>\n",
       "      <td>33023434</td>\n",
       "      <td>41</td>\n",
       "      <td>87</td>\n",
       "      <td>0</td>\n",
       "      <td>16</td>\n",
       "      <td>41</td>\n",
       "      <td>7</td>\n",
       "      <td>14</td>\n",
       "      <td>2</td>\n",
       "      <td>...</td>\n",
       "      <td>0.337500</td>\n",
       "      <td>13.837500</td>\n",
       "      <td>15.133500</td>\n",
       "      <td>1.200000</td>\n",
       "      <td>1.500000</td>\n",
       "      <td>1.322034</td>\n",
       "      <td>35.160000</td>\n",
       "      <td>0.475135</td>\n",
       "      <td>85.18</td>\n",
       "      <td>-0.131618</td>\n",
       "    </tr>\n",
       "    <tr>\n",
       "      <th>4</th>\n",
       "      <td>Laconia</td>\n",
       "      <td>33023435</td>\n",
       "      <td>58</td>\n",
       "      <td>16</td>\n",
       "      <td>1</td>\n",
       "      <td>23</td>\n",
       "      <td>69</td>\n",
       "      <td>5</td>\n",
       "      <td>7</td>\n",
       "      <td>7</td>\n",
       "      <td>...</td>\n",
       "      <td>0.089552</td>\n",
       "      <td>5.194030</td>\n",
       "      <td>4.219701</td>\n",
       "      <td>0.307692</td>\n",
       "      <td>0.857143</td>\n",
       "      <td>0.424242</td>\n",
       "      <td>6.320000</td>\n",
       "      <td>0.090286</td>\n",
       "      <td>75.85</td>\n",
       "      <td>0.134132</td>\n",
       "    </tr>\n",
       "    <tr>\n",
       "      <th>...</th>\n",
       "      <td>...</td>\n",
       "      <td>...</td>\n",
       "      <td>...</td>\n",
       "      <td>...</td>\n",
       "      <td>...</td>\n",
       "      <td>...</td>\n",
       "      <td>...</td>\n",
       "      <td>...</td>\n",
       "      <td>...</td>\n",
       "      <td>...</td>\n",
       "      <td>...</td>\n",
       "      <td>...</td>\n",
       "      <td>...</td>\n",
       "      <td>...</td>\n",
       "      <td>...</td>\n",
       "      <td>...</td>\n",
       "      <td>...</td>\n",
       "      <td>...</td>\n",
       "      <td>...</td>\n",
       "      <td>...</td>\n",
       "      <td>...</td>\n",
       "    </tr>\n",
       "    <tr>\n",
       "      <th>2067</th>\n",
       "      <td>Appleton East</td>\n",
       "      <td>33027533</td>\n",
       "      <td>105</td>\n",
       "      <td>96</td>\n",
       "      <td>1</td>\n",
       "      <td>34</td>\n",
       "      <td>49</td>\n",
       "      <td>27</td>\n",
       "      <td>39</td>\n",
       "      <td>7</td>\n",
       "      <td>...</td>\n",
       "      <td>0.513514</td>\n",
       "      <td>53.918919</td>\n",
       "      <td>45.271351</td>\n",
       "      <td>1.230769</td>\n",
       "      <td>1.000000</td>\n",
       "      <td>1.150000</td>\n",
       "      <td>39.576471</td>\n",
       "      <td>0.457003</td>\n",
       "      <td>86.30</td>\n",
       "      <td>0.118839</td>\n",
       "    </tr>\n",
       "    <tr>\n",
       "      <th>2068</th>\n",
       "      <td>Kimberly</td>\n",
       "      <td>33027534</td>\n",
       "      <td>82</td>\n",
       "      <td>78</td>\n",
       "      <td>1</td>\n",
       "      <td>32</td>\n",
       "      <td>56</td>\n",
       "      <td>10</td>\n",
       "      <td>15</td>\n",
       "      <td>8</td>\n",
       "      <td>...</td>\n",
       "      <td>0.308642</td>\n",
       "      <td>25.308642</td>\n",
       "      <td>23.222222</td>\n",
       "      <td>1.096774</td>\n",
       "      <td>1.500000</td>\n",
       "      <td>1.272727</td>\n",
       "      <td>32.200000</td>\n",
       "      <td>0.445983</td>\n",
       "      <td>85.65</td>\n",
       "      <td>-0.004294</td>\n",
       "    </tr>\n",
       "    <tr>\n",
       "      <th>2069</th>\n",
       "      <td>Appleton East</td>\n",
       "      <td>33027534</td>\n",
       "      <td>78</td>\n",
       "      <td>82</td>\n",
       "      <td>0</td>\n",
       "      <td>29</td>\n",
       "      <td>55</td>\n",
       "      <td>8</td>\n",
       "      <td>8</td>\n",
       "      <td>12</td>\n",
       "      <td>...</td>\n",
       "      <td>0.304348</td>\n",
       "      <td>23.739130</td>\n",
       "      <td>20.586087</td>\n",
       "      <td>1.200000</td>\n",
       "      <td>1.500000</td>\n",
       "      <td>1.285714</td>\n",
       "      <td>34.666667</td>\n",
       "      <td>0.509804</td>\n",
       "      <td>80.12</td>\n",
       "      <td>0.004294</td>\n",
       "    </tr>\n",
       "    <tr>\n",
       "      <th>2070</th>\n",
       "      <td>Marshfield</td>\n",
       "      <td>33027535</td>\n",
       "      <td>55</td>\n",
       "      <td>69</td>\n",
       "      <td>0</td>\n",
       "      <td>18</td>\n",
       "      <td>49</td>\n",
       "      <td>10</td>\n",
       "      <td>13</td>\n",
       "      <td>9</td>\n",
       "      <td>...</td>\n",
       "      <td>0.391304</td>\n",
       "      <td>21.521739</td>\n",
       "      <td>22.304348</td>\n",
       "      <td>1.280000</td>\n",
       "      <td>1.200000</td>\n",
       "      <td>1.240000</td>\n",
       "      <td>27.633333</td>\n",
       "      <td>0.440021</td>\n",
       "      <td>68.37</td>\n",
       "      <td>-0.123447</td>\n",
       "    </tr>\n",
       "    <tr>\n",
       "      <th>2071</th>\n",
       "      <td>Appleton East</td>\n",
       "      <td>33027535</td>\n",
       "      <td>69</td>\n",
       "      <td>55</td>\n",
       "      <td>1</td>\n",
       "      <td>26</td>\n",
       "      <td>50</td>\n",
       "      <td>7</td>\n",
       "      <td>12</td>\n",
       "      <td>10</td>\n",
       "      <td>...</td>\n",
       "      <td>0.267857</td>\n",
       "      <td>18.482143</td>\n",
       "      <td>15.064286</td>\n",
       "      <td>0.750000</td>\n",
       "      <td>1.080000</td>\n",
       "      <td>0.918367</td>\n",
       "      <td>21.076923</td>\n",
       "      <td>0.328301</td>\n",
       "      <td>70.04</td>\n",
       "      <td>0.123447</td>\n",
       "    </tr>\n",
       "  </tbody>\n",
       "</table>\n",
       "<p>2072 rows × 56 columns</p>\n",
       "</div>"
      ],
      "text/plain": [
       "               Team   Game_ID  Points_Scored  Points_Allowed  Win  \\\n",
       "0           Laconia  33023432             72              33    1   \n",
       "1     Campbellsport  33023432             33              72    0   \n",
       "2           Laconia  33023434             87              41    1   \n",
       "3            Lomira  33023434             41              87    0   \n",
       "4           Laconia  33023435             58              16    1   \n",
       "...             ...       ...            ...             ...  ...   \n",
       "2067  Appleton East  33027533            105              96    1   \n",
       "2068       Kimberly  33027534             82              78    1   \n",
       "2069  Appleton East  33027534             78              82    0   \n",
       "2070     Marshfield  33027535             55              69    0   \n",
       "2071  Appleton East  33027535             69              55    1   \n",
       "\n",
       "      Field Goals Made  Field Goals Attempted  Free Throws Made  \\\n",
       "0                   28                     71                 9   \n",
       "1                    9                     37                11   \n",
       "2                   33                     59                 9   \n",
       "3                   16                     41                 7   \n",
       "4                   23                     69                 5   \n",
       "...                ...                    ...               ...   \n",
       "2067                34                     49                27   \n",
       "2068                32                     56                10   \n",
       "2069                29                     55                 8   \n",
       "2070                18                     49                10   \n",
       "2071                26                     50                 7   \n",
       "\n",
       "      Free Throws Attempted  Three Point Made  ...  \\\n",
       "0                        15                 7  ...   \n",
       "1                        21                 4  ...   \n",
       "2                        15                12  ...   \n",
       "3                        14                 2  ...   \n",
       "4                         7                 7  ...   \n",
       "...                     ...               ...  ...   \n",
       "2067                     39                 7  ...   \n",
       "2068                     15                 8  ...   \n",
       "2069                      8                12  ...   \n",
       "2070                     13                 9  ...   \n",
       "2071                     12                10  ...   \n",
       "\n",
       "      Offensive_Efficiency_Allowed  Efficient Points Score_Allowed  \\\n",
       "0                         0.301587                       21.714286   \n",
       "1                         0.352941                       11.647059   \n",
       "2                         0.205882                       17.911765   \n",
       "3                         0.337500                       13.837500   \n",
       "4                         0.089552                        5.194030   \n",
       "...                            ...                             ...   \n",
       "2067                      0.513514                       53.918919   \n",
       "2068                      0.308642                       25.308642   \n",
       "2069                      0.304348                       23.739130   \n",
       "2070                      0.391304                       21.521739   \n",
       "2071                      0.267857                       18.482143   \n",
       "\n",
       "      Raw EOP_Allowed  Two Points Per Attempt_Allowed  \\\n",
       "0           18.336508                        0.476190   \n",
       "1           14.484706                        0.976744   \n",
       "2           14.708235                        0.823529   \n",
       "3           15.133500                        1.200000   \n",
       "4            4.219701                        0.307692   \n",
       "...               ...                             ...   \n",
       "2067        45.271351                        1.230769   \n",
       "2068        23.222222                        1.096774   \n",
       "2069        20.586087                        1.200000   \n",
       "2070        22.304348                        1.280000   \n",
       "2071        15.064286                        0.750000   \n",
       "\n",
       "      Three Points Per Attempt_Allowed  Total Points Per Attempt_Allowed  \\\n",
       "0                             0.750000                          0.594595   \n",
       "1                             0.750000                          0.887324   \n",
       "2                             0.857143                          0.829268   \n",
       "3                             1.500000                          1.322034   \n",
       "4                             0.857143                          0.424242   \n",
       "...                                ...                               ...   \n",
       "2067                          1.000000                          1.150000   \n",
       "2068                          1.500000                          1.272727   \n",
       "2069                          1.500000                          1.285714   \n",
       "2070                          1.200000                          1.240000   \n",
       "2071                          1.080000                          0.918367   \n",
       "\n",
       "      Scoring_Possesions_Allowed  Team Play Percent_Allowed  \\\n",
       "0                      11.304762                   0.167726   \n",
       "1                      30.160000                   0.354824   \n",
       "2                      17.400000                   0.227154   \n",
       "3                      35.160000                   0.475135   \n",
       "4                       6.320000                   0.090286   \n",
       "...                          ...                        ...   \n",
       "2067                   39.576471                   0.457003   \n",
       "2068                   32.200000                   0.445983   \n",
       "2069                   34.666667                   0.509804   \n",
       "2070                   27.633333                   0.440021   \n",
       "2071                   21.076923                   0.328301   \n",
       "\n",
       "      Possesions_Allowed  Offensive_Efficieny_Difference  \n",
       "0                  69.52                        0.051354  \n",
       "1                  91.35                       -0.051354  \n",
       "2                  76.70                        0.131618  \n",
       "3                  85.18                       -0.131618  \n",
       "4                  75.85                        0.134132  \n",
       "...                  ...                             ...  \n",
       "2067               86.30                        0.118839  \n",
       "2068               85.65                       -0.004294  \n",
       "2069               80.12                        0.004294  \n",
       "2070               68.37                       -0.123447  \n",
       "2071               70.04                        0.123447  \n",
       "\n",
       "[2072 rows x 56 columns]"
      ]
     },
     "execution_count": 4,
     "metadata": {},
     "output_type": "execute_result"
    }
   ],
   "source": [
    "basketball_data = pd.read_csv(r'C:\\Users\\Jake\\Documents\\GitHub\\FunAnalyticalStuff\\hs_wbb_model\\Basketball_Final_Stats.csv')\n",
    "basketball_data"
   ]
  },
  {
   "cell_type": "code",
   "execution_count": 5,
   "metadata": {},
   "outputs": [
    {
     "data": {
      "text/plain": [
       "Index(['Team', 'Game_ID', 'Points_Scored', 'Points_Allowed', 'Win',\n",
       "       'Field Goals Made', 'Field Goals Attempted', 'Free Throws Made',\n",
       "       'Free Throws Attempted', 'Three Point Made', 'Three Point Attempted',\n",
       "       'Total Points', 'Offensive Rebounds', 'Defensive Rebounds',\n",
       "       'Total Rebounds', 'Assists', 'Turnovers', 'Steals', 'Blocks', 'Fouls',\n",
       "       'Technical Fouls', 'Offensive_Efficiency', 'Efficient Points Score',\n",
       "       'Raw EOP', 'Two Points Per Attempt', 'Three Points Per Attempt',\n",
       "       'Total Points Per Attempt', 'Scoring_Possesions', 'Team Play Percent',\n",
       "       'Possesions', 'Field Goals Made_Allowed',\n",
       "       'Field Goals Attempted_Allowed', 'Free Throws Made_Allowed',\n",
       "       'Free Throws Attempted_Allowed', 'Three Point Made_Allowed',\n",
       "       'Three Point Attempted_Allowed', 'Total Points_Allowed',\n",
       "       'Offensive Rebounds_Allowed', 'Defensive Rebounds_Allowed',\n",
       "       'Total Rebounds_Allowed', 'Assists_Allowed', 'Turnovers_Allowed',\n",
       "       'Steals_Allowed', 'Blocks_Allowed', 'Fouls_Allowed',\n",
       "       'Technical Fouls_Allowed', 'Offensive_Efficiency_Allowed',\n",
       "       'Efficient Points Score_Allowed', 'Raw EOP_Allowed',\n",
       "       'Two Points Per Attempt_Allowed', 'Three Points Per Attempt_Allowed',\n",
       "       'Total Points Per Attempt_Allowed', 'Scoring_Possesions_Allowed',\n",
       "       'Team Play Percent_Allowed', 'Possesions_Allowed',\n",
       "       'Offensive_Efficieny_Difference'],\n",
       "      dtype='object')"
      ]
     },
     "execution_count": 5,
     "metadata": {},
     "output_type": "execute_result"
    }
   ],
   "source": [
    "basketball_data.columns"
   ]
  },
  {
   "cell_type": "code",
   "execution_count": 6,
   "metadata": {},
   "outputs": [
    {
     "ename": "ModuleNotFoundError",
     "evalue": "No module named 'statsmodels'",
     "output_type": "error",
     "traceback": [
      "\u001b[1;31m---------------------------------------------------------------------------\u001b[0m",
      "\u001b[1;31mModuleNotFoundError\u001b[0m                       Traceback (most recent call last)",
      "\u001b[1;32m<ipython-input-6-e33e43013aaf>\u001b[0m in \u001b[0;36m<module>\u001b[1;34m\u001b[0m\n\u001b[1;32m----> 1\u001b[1;33m \u001b[1;32mfrom\u001b[0m \u001b[0mstatsmodels\u001b[0m\u001b[1;33m.\u001b[0m\u001b[0mstats\u001b[0m\u001b[1;33m.\u001b[0m\u001b[0moutliers_influence\u001b[0m \u001b[1;32mimport\u001b[0m \u001b[0mvariance_inflation_factor\u001b[0m \u001b[1;32mas\u001b[0m \u001b[0mvif\u001b[0m\u001b[1;33m\u001b[0m\u001b[1;33m\u001b[0m\u001b[0m\n\u001b[0m\u001b[0;32m      2\u001b[0m \u001b[1;32mdef\u001b[0m \u001b[0mget_vif\u001b[0m\u001b[1;33m(\u001b[0m\u001b[0mdf\u001b[0m\u001b[1;33m)\u001b[0m\u001b[1;33m:\u001b[0m\u001b[1;33m\u001b[0m\u001b[1;33m\u001b[0m\u001b[0m\n\u001b[0;32m      3\u001b[0m     \u001b[0mvif_data\u001b[0m \u001b[1;33m=\u001b[0m \u001b[0mpd\u001b[0m\u001b[1;33m.\u001b[0m\u001b[0mDataFrame\u001b[0m\u001b[1;33m(\u001b[0m\u001b[1;33m)\u001b[0m\u001b[1;33m\u001b[0m\u001b[1;33m\u001b[0m\u001b[0m\n\u001b[0;32m      4\u001b[0m     \u001b[0mvif_data\u001b[0m\u001b[1;33m[\u001b[0m\u001b[1;34m'Feature'\u001b[0m\u001b[1;33m]\u001b[0m \u001b[1;33m=\u001b[0m \u001b[0mdf\u001b[0m\u001b[1;33m.\u001b[0m\u001b[0mcolumns\u001b[0m\u001b[1;33m\u001b[0m\u001b[1;33m\u001b[0m\u001b[0m\n\u001b[0;32m      5\u001b[0m     \u001b[0mvif_data\u001b[0m\u001b[1;33m[\u001b[0m\u001b[1;34m'VIF'\u001b[0m\u001b[1;33m]\u001b[0m \u001b[1;33m=\u001b[0m \u001b[1;33m[\u001b[0m\u001b[0mvif\u001b[0m\u001b[1;33m(\u001b[0m\u001b[0mdf\u001b[0m\u001b[1;33m.\u001b[0m\u001b[0mvalues\u001b[0m\u001b[1;33m,\u001b[0m \u001b[0mi\u001b[0m\u001b[1;33m)\u001b[0m \u001b[1;32mfor\u001b[0m \u001b[0mi\u001b[0m \u001b[1;32min\u001b[0m \u001b[0mrange\u001b[0m\u001b[1;33m(\u001b[0m\u001b[0mlen\u001b[0m\u001b[1;33m(\u001b[0m\u001b[0mdf\u001b[0m\u001b[1;33m.\u001b[0m\u001b[0mcolumns\u001b[0m\u001b[1;33m)\u001b[0m\u001b[1;33m)\u001b[0m\u001b[1;33m]\u001b[0m\u001b[1;33m\u001b[0m\u001b[1;33m\u001b[0m\u001b[0m\n",
      "\u001b[1;31mModuleNotFoundError\u001b[0m: No module named 'statsmodels'"
     ]
    }
   ],
   "source": [
    "from statsmodels.stats.outliers_influence import variance_inflation_factor as vif \n",
    "def get_vif(df):\n",
    "    vif_data = pd.DataFrame()\n",
    "    vif_data['Feature'] = df.columns\n",
    "    vif_data['VIF'] = [vif(df.values, i) for i in range(len(df.columns))]\n",
    "    return vif_data"
   ]
  },
  {
   "cell_type": "code",
   "execution_count": 110,
   "metadata": {},
   "outputs": [],
   "source": [
    "basketball_data_drop_extra = basketball_data.drop(columns = ['Team', 'Game_ID', 'Points_Scored', 'Total Points_Allowed', 'Total Points', 'Points_Allowed', 'Efficient Points Score', 'Raw EOP', 'Efficient Points Score_Allowed', 'Raw EOP_Allowed', 'Offensive_Efficieny_Difference', 'Fouls', 'Technical Fouls', 'Fouls_Allowed',\n",
    "       'Technical Fouls_Allowed', 'Blocks', 'Blocks_Allowed', 'Steals', 'Steals_Allowed'])\n"
   ]
  },
  {
   "cell_type": "code",
   "execution_count": 111,
   "metadata": {},
   "outputs": [],
   "source": [
    "from sklearn.model_selection import train_test_split\n",
    "\n",
    "y = basketball_data_drop_extra['Win']\n",
    "X = basketball_data_drop_extra.drop(columns = ['Win'])\n",
    "X_train, X_test, y_train, y_test = train_test_split(X, y, test_size = .2, random_state = 13)"
   ]
  },
  {
   "cell_type": "code",
   "execution_count": 81,
   "metadata": {},
   "outputs": [
    {
     "data": {
      "text/plain": [
       "array([0.97590361, 0.94216867, 0.9468599 , 0.96135266, 0.96135266])"
      ]
     },
     "execution_count": 81,
     "metadata": {},
     "output_type": "execute_result"
    }
   ],
   "source": [
    "from sklearn.linear_model import LogisticRegression, RidgeClassifier\n",
    "from sklearn.model_selection import cross_val_score\n",
    "\n",
    "log = LogisticRegression()\n",
    "rid = RidgeClassifier()\n",
    "cv = cross_val_score(rid, X, y, cv = 5)\n",
    "cv"
   ]
  },
  {
   "cell_type": "code",
   "execution_count": 133,
   "metadata": {},
   "outputs": [
    {
     "name": "stderr",
     "output_type": "stream",
     "text": [
      "C:\\Users\\Jake\\AppData\\Local\\Packages\\PythonSoftwareFoundation.Python.3.9_qbz5n2kfra8p0\\LocalCache\\local-packages\\Python39\\site-packages\\sklearn\\neural_network\\_multilayer_perceptron.py:500: ConvergenceWarning: lbfgs failed to converge (status=1):\n",
      "STOP: TOTAL NO. of ITERATIONS REACHED LIMIT.\n",
      "\n",
      "Increase the number of iterations (max_iter) or scale the data as shown in:\n",
      "    https://scikit-learn.org/stable/modules/preprocessing.html\n",
      "  self.n_iter_ = _check_optimize_result(\"lbfgs\", opt_res, self.max_iter)\n"
     ]
    }
   ],
   "source": [
    "from sklearn.neural_network import MLPClassifier\n",
    "clf = MLPClassifier(solver = 'lbfgs', alpha = 1e-5, hidden_layer_sizes = (5, 2), random_state = 13)\n",
    "clf_fit = clf.fit(X_train, y_train)"
   ]
  },
  {
   "cell_type": "code",
   "execution_count": 64,
   "metadata": {},
   "outputs": [
    {
     "data": {
      "text/plain": [
       "Index(['Field Goals Made', 'Field Goals Attempted', 'Free Throws Made',\n",
       "       'Free Throws Attempted', 'Three Point Made', 'Three Point Attempted',\n",
       "       'Offensive Rebounds', 'Defensive Rebounds', 'Total Rebounds', 'Assists',\n",
       "       'Turnovers', 'Steals', 'Offensive_Efficiency', 'Two Points Per Attempt',\n",
       "       'Three Points Per Attempt', 'Total Points Per Attempt',\n",
       "       'Scoring_Possesions', 'Team Play Percent', 'Possesions',\n",
       "       'Field Goals Made_Allowed', 'Field Goals Attempted_Allowed',\n",
       "       'Free Throws Made_Allowed', 'Free Throws Attempted_Allowed',\n",
       "       'Three Point Made_Allowed', 'Three Point Attempted_Allowed',\n",
       "       'Offensive Rebounds_Allowed', 'Defensive Rebounds_Allowed',\n",
       "       'Total Rebounds_Allowed', 'Assists_Allowed', 'Turnovers_Allowed',\n",
       "       'Steals_Allowed', 'Offensive_Efficiency_Allowed',\n",
       "       'Two Points Per Attempt_Allowed', 'Three Points Per Attempt_Allowed',\n",
       "       'Total Points Per Attempt_Allowed', 'Scoring_Possesions_Allowed',\n",
       "       'Team Play Percent_Allowed', 'Possesions_Allowed'],\n",
       "      dtype='object')"
      ]
     },
     "execution_count": 64,
     "metadata": {},
     "output_type": "execute_result"
    }
   ],
   "source": [
    "X_train.columns"
   ]
  },
  {
   "cell_type": "code",
   "execution_count": 136,
   "metadata": {},
   "outputs": [
    {
     "data": {
      "text/plain": [
       "0.9686746987951808"
      ]
     },
     "execution_count": 136,
     "metadata": {},
     "output_type": "execute_result"
    }
   ],
   "source": [
    "from sklearn.metrics import accuracy_score\n",
    "y_pred = clf_fit.predict(X_test)\n",
    "accuracy_score(y_true = y_test, y_pred = y_pred)"
   ]
  },
  {
   "cell_type": "code",
   "execution_count": 114,
   "metadata": {},
   "outputs": [],
   "source": [
    "from sklearn.preprocessing import StandardScaler\n",
    "scaler = StandardScaler()\n",
    "scaler_fit = scaler.fit(X_train)\n",
    "X_train_scaled = scaler_fit.transform(X_train)\n",
    "X_test_scaled = scaler_fit.transform(X_test)\n"
   ]
  },
  {
   "cell_type": "code",
   "execution_count": 116,
   "metadata": {},
   "outputs": [
    {
     "data": {
      "text/plain": [
       "0.9325301204819277"
      ]
     },
     "execution_count": 116,
     "metadata": {},
     "output_type": "execute_result"
    }
   ],
   "source": [
    "from sklearn.neighbors import KNeighborsClassifier\n",
    "from sklearn.metrics import ConfusionMatrixDisplay as cmd, confusion_matrix as cm\n",
    "knn_fit = KNeighborsClassifier(n_neighbors = 10).fit(X_train_scaled, y_train)\n",
    "knn_predict = knn_fit.predict(X_test_scaled)\n",
    "accuracy_score(y_true = y_test, y_pred = knn_predict)"
   ]
  },
  {
   "cell_type": "code",
   "execution_count": 10,
   "metadata": {},
   "outputs": [],
   "source": [
    "import matplotlib.pyplot as plt\n",
    "\n",
    "def cf_matrix(y_test, predict, fit):\n",
    "    c_m = cm(y_test, predict, labels = fit.classes_)\n",
    "    disp = cmd(c_m, display_labels = fit.classes_)\n",
    "    disp.plot()\n",
    "    plt.show()"
   ]
  },
  {
   "cell_type": "code",
   "execution_count": 132,
   "metadata": {},
   "outputs": [
    {
     "ename": "AttributeError",
     "evalue": "'numpy.ndarray' object has no attribute 'classes_'",
     "output_type": "error",
     "traceback": [
      "\u001b[1;31m---------------------------------------------------------------------------\u001b[0m",
      "\u001b[1;31mAttributeError\u001b[0m                            Traceback (most recent call last)",
      "\u001b[1;32m<ipython-input-132-6f6680773e60>\u001b[0m in \u001b[0;36m<module>\u001b[1;34m\u001b[0m\n\u001b[1;32m----> 1\u001b[1;33m \u001b[0mcf_matrix\u001b[0m\u001b[1;33m(\u001b[0m\u001b[0my_test\u001b[0m\u001b[1;33m,\u001b[0m \u001b[0mclf_fit\u001b[0m\u001b[1;33m,\u001b[0m \u001b[0my_pred\u001b[0m\u001b[1;33m)\u001b[0m\u001b[1;33m\u001b[0m\u001b[1;33m\u001b[0m\u001b[0m\n\u001b[0m",
      "\u001b[1;32m<ipython-input-10-16456a8f1cf2>\u001b[0m in \u001b[0;36mcf_matrix\u001b[1;34m(y_test, predict, fit)\u001b[0m\n\u001b[0;32m      2\u001b[0m \u001b[1;33m\u001b[0m\u001b[0m\n\u001b[0;32m      3\u001b[0m \u001b[1;32mdef\u001b[0m \u001b[0mcf_matrix\u001b[0m\u001b[1;33m(\u001b[0m\u001b[0my_test\u001b[0m\u001b[1;33m,\u001b[0m \u001b[0mpredict\u001b[0m\u001b[1;33m,\u001b[0m \u001b[0mfit\u001b[0m\u001b[1;33m)\u001b[0m\u001b[1;33m:\u001b[0m\u001b[1;33m\u001b[0m\u001b[1;33m\u001b[0m\u001b[0m\n\u001b[1;32m----> 4\u001b[1;33m     \u001b[0mc_m\u001b[0m \u001b[1;33m=\u001b[0m \u001b[0mcm\u001b[0m\u001b[1;33m(\u001b[0m\u001b[0my_test\u001b[0m\u001b[1;33m,\u001b[0m \u001b[0mpredict\u001b[0m\u001b[1;33m,\u001b[0m \u001b[0mlabels\u001b[0m \u001b[1;33m=\u001b[0m \u001b[0mfit\u001b[0m\u001b[1;33m.\u001b[0m\u001b[0mclasses_\u001b[0m\u001b[1;33m)\u001b[0m\u001b[1;33m\u001b[0m\u001b[1;33m\u001b[0m\u001b[0m\n\u001b[0m\u001b[0;32m      5\u001b[0m     \u001b[0mdisp\u001b[0m \u001b[1;33m=\u001b[0m \u001b[0mcmd\u001b[0m\u001b[1;33m(\u001b[0m\u001b[0mc_m\u001b[0m\u001b[1;33m,\u001b[0m \u001b[0mdisplay_labels\u001b[0m \u001b[1;33m=\u001b[0m \u001b[0mfit\u001b[0m\u001b[1;33m.\u001b[0m\u001b[0mclasses_\u001b[0m\u001b[1;33m)\u001b[0m\u001b[1;33m\u001b[0m\u001b[1;33m\u001b[0m\u001b[0m\n\u001b[0;32m      6\u001b[0m     \u001b[0mdisp\u001b[0m\u001b[1;33m.\u001b[0m\u001b[0mplot\u001b[0m\u001b[1;33m(\u001b[0m\u001b[1;33m)\u001b[0m\u001b[1;33m\u001b[0m\u001b[1;33m\u001b[0m\u001b[0m\n",
      "\u001b[1;31mAttributeError\u001b[0m: 'numpy.ndarray' object has no attribute 'classes_'"
     ]
    }
   ],
   "source": [
    "cf_matrix(y_test, clf_fit, y_pred)"
   ]
  },
  {
   "cell_type": "code",
   "execution_count": 117,
   "metadata": {},
   "outputs": [
    {
     "data": {
      "image/png": "[encoded data removed]",
      "text/plain": [
       "<Figure size 432x288 with 2 Axes>"
      ]
     },
     "metadata": {
      "needs_background": "light"
     },
     "output_type": "display_data"
    }
   ],
   "source": [
    "cf_matrix(y_test, knn_predict, knn_fit)"
   ]
  },
  {
   "cell_type": "code",
   "execution_count": 119,
   "metadata": {},
   "outputs": [
    {
     "data": {
      "image/png": "[encoded data removed]",
      "text/plain": [
       "<Figure size 432x288 with 2 Axes>"
      ]
     },
     "metadata": {
      "needs_background": "light"
     },
     "output_type": "display_data"
    }
   ],
   "source": [
    "cf_matrix(y_test, clf_scaled_pred, clf_scaled)"
   ]
  },
  {
   "cell_type": "code",
   "execution_count": 118,
   "metadata": {},
   "outputs": [
    {
     "data": {
      "text/plain": [
       "0.963855421686747"
      ]
     },
     "execution_count": 118,
     "metadata": {},
     "output_type": "execute_result"
    }
   ],
   "source": [
    "clf_scaled = clf.fit(X_train_scaled, y_train)\n",
    "clf_scaled_pred = clf_scaled.predict(X_test_scaled)\n",
    "accuracy_score(y_true = y_test, y_pred = clf_scaled_pred)"
   ]
  },
  {
   "cell_type": "code",
   "execution_count": 82,
   "metadata": {},
   "outputs": [
    {
     "name": "stdout",
     "output_type": "stream",
     "text": [
      "1\n",
      "2\n",
      "3\n",
      "4\n"
     ]
    }
   ],
   "source": [
    "this_list = [1, 2, 3, 4, 5]\n",
    "for x in this_list[:-1]:\n",
    "    print(x)"
   ]
  },
  {
   "cell_type": "code",
   "execution_count": 88,
   "metadata": {},
   "outputs": [],
   "source": [
    "X_scaled = scaler.transform(X)"
   ]
  },
  {
   "cell_type": "code",
   "execution_count": 106,
   "metadata": {},
   "outputs": [
    {
     "data": {
      "text/plain": [
       "array([[0.7, 0.3]])"
      ]
     },
     "execution_count": 106,
     "metadata": {},
     "output_type": "execute_result"
    }
   ],
   "source": [
    "\n",
    "this_test_2 = [[ 0.9974421,   2.32246606 , 1.4762132,   0.19057405 , 3.21750988 , 0.50345946,\n",
    "  -0.69562826,  0.17339849, -0.41161427 , 0.34444616, -1.33785577 ,-0.28183073,\n",
    "   0.07776896, -1.05157324,  3.02028384, -0.15590656,  1.50649744,  0.5520179,\n",
    "   2.33370173 , 0.98071516,  0.06445085,  2.32430757,  1.96108027 , 0.51499865,\n",
    "   0.08481871, -0.33120744,  2.99459247,  2.05092816, -1.00765847,  0.21977046,\n",
    "  -0.46351212 , 0.79795379,  0.57921955 , 0.61353988 , 1.21413186,  1.39576281,\n",
    "   1.05381833,  0.29443547]]\n",
    "knn_fit.predict_proba(this_test_2)"
   ]
  },
  {
   "cell_type": "code",
   "execution_count": 93,
   "metadata": {},
   "outputs": [
    {
     "data": {
      "text/plain": [
       "array([0, 1], dtype=int64)"
      ]
     },
     "execution_count": 93,
     "metadata": {},
     "output_type": "execute_result"
    }
   ],
   "source": [
    "clf_scaled.classes_"
   ]
  },
  {
   "cell_type": "code",
   "execution_count": 85,
   "metadata": {},
   "outputs": [
    {
     "data": {
      "image/png": "[encoded data removed]",
      "text/plain": [
       "<Figure size 432x288 with 2 Axes>"
      ]
     },
     "metadata": {
      "needs_background": "light"
     },
     "output_type": "display_data"
    }
   ],
   "source": [
    "cf_matrix(y_test, clf_scaled_pred, clf_scaled)"
   ]
  },
  {
   "cell_type": "code",
   "execution_count": 82,
   "metadata": {},
   "outputs": [
    {
     "data": {
      "text/plain": [
       "0.963855421686747"
      ]
     },
     "execution_count": 82,
     "metadata": {},
     "output_type": "execute_result"
    }
   ],
   "source": [
    "from sklearn.metrics import accuracy_score\n",
    "rid_fit = RidgeClassifier().fit(X_train, y_train)\n",
    "rid_predict = rid_fit.predict(X_test)\n",
    "accuracy_score(y_true = y_test, y_pred = rid_predict)"
   ]
  },
  {
   "cell_type": "code",
   "execution_count": 83,
   "metadata": {},
   "outputs": [
    {
     "data": {
      "text/html": [
       "<div>\n",
       "<style scoped>\n",
       "    .dataframe tbody tr th:only-of-type {\n",
       "        vertical-align: middle;\n",
       "    }\n",
       "\n",
       "    .dataframe tbody tr th {\n",
       "        vertical-align: top;\n",
       "    }\n",
       "\n",
       "    .dataframe thead th {\n",
       "        text-align: right;\n",
       "    }\n",
       "</style>\n",
       "<table border=\"1\" class=\"dataframe\">\n",
       "  <thead>\n",
       "    <tr style=\"text-align: right;\">\n",
       "      <th></th>\n",
       "      <th>0</th>\n",
       "    </tr>\n",
       "  </thead>\n",
       "  <tbody>\n",
       "    <tr>\n",
       "      <th>Field Goals Made</th>\n",
       "      <td>0.035916</td>\n",
       "    </tr>\n",
       "    <tr>\n",
       "      <th>Field Goals Attempted</th>\n",
       "      <td>-0.004049</td>\n",
       "    </tr>\n",
       "    <tr>\n",
       "      <th>Free Throws Made</th>\n",
       "      <td>0.015912</td>\n",
       "    </tr>\n",
       "    <tr>\n",
       "      <th>Free Throws Attempted</th>\n",
       "      <td>0.002183</td>\n",
       "    </tr>\n",
       "    <tr>\n",
       "      <th>Three Point Made</th>\n",
       "      <td>0.054193</td>\n",
       "    </tr>\n",
       "    <tr>\n",
       "      <th>Three Point Attempted</th>\n",
       "      <td>-0.010696</td>\n",
       "    </tr>\n",
       "    <tr>\n",
       "      <th>Offensive Rebounds</th>\n",
       "      <td>-0.007908</td>\n",
       "    </tr>\n",
       "    <tr>\n",
       "      <th>Defensive Rebounds</th>\n",
       "      <td>0.005617</td>\n",
       "    </tr>\n",
       "    <tr>\n",
       "      <th>Total Rebounds</th>\n",
       "      <td>0.004529</td>\n",
       "    </tr>\n",
       "    <tr>\n",
       "      <th>Assists</th>\n",
       "      <td>-0.006041</td>\n",
       "    </tr>\n",
       "    <tr>\n",
       "      <th>Turnovers</th>\n",
       "      <td>-0.005016</td>\n",
       "    </tr>\n",
       "    <tr>\n",
       "      <th>Steals</th>\n",
       "      <td>0.009482</td>\n",
       "    </tr>\n",
       "    <tr>\n",
       "      <th>Blocks</th>\n",
       "      <td>0.009790</td>\n",
       "    </tr>\n",
       "    <tr>\n",
       "      <th>Fouls</th>\n",
       "      <td>-0.006172</td>\n",
       "    </tr>\n",
       "    <tr>\n",
       "      <th>Technical Fouls</th>\n",
       "      <td>0.003821</td>\n",
       "    </tr>\n",
       "    <tr>\n",
       "      <th>Offensive_Efficiency</th>\n",
       "      <td>0.692671</td>\n",
       "    </tr>\n",
       "    <tr>\n",
       "      <th>Efficient Points Score</th>\n",
       "      <td>-0.048501</td>\n",
       "    </tr>\n",
       "    <tr>\n",
       "      <th>Raw EOP</th>\n",
       "      <td>0.012025</td>\n",
       "    </tr>\n",
       "    <tr>\n",
       "      <th>Two Points Per Attempt</th>\n",
       "      <td>0.055987</td>\n",
       "    </tr>\n",
       "    <tr>\n",
       "      <th>Three Points Per Attempt</th>\n",
       "      <td>-0.136572</td>\n",
       "    </tr>\n",
       "    <tr>\n",
       "      <th>Total Points Per Attempt</th>\n",
       "      <td>-0.199541</td>\n",
       "    </tr>\n",
       "    <tr>\n",
       "      <th>Scoring_Possesions</th>\n",
       "      <td>0.009750</td>\n",
       "    </tr>\n",
       "    <tr>\n",
       "      <th>Team Play Percent</th>\n",
       "      <td>-0.408024</td>\n",
       "    </tr>\n",
       "    <tr>\n",
       "      <th>Possesions</th>\n",
       "      <td>-0.002224</td>\n",
       "    </tr>\n",
       "    <tr>\n",
       "      <th>Field Goals Made_Allowed</th>\n",
       "      <td>-0.068387</td>\n",
       "    </tr>\n",
       "    <tr>\n",
       "      <th>Field Goals Attempted_Allowed</th>\n",
       "      <td>0.004871</td>\n",
       "    </tr>\n",
       "    <tr>\n",
       "      <th>Free Throws Made_Allowed</th>\n",
       "      <td>-0.023851</td>\n",
       "    </tr>\n",
       "    <tr>\n",
       "      <th>Free Throws Attempted_Allowed</th>\n",
       "      <td>0.000455</td>\n",
       "    </tr>\n",
       "    <tr>\n",
       "      <th>Three Point Made_Allowed</th>\n",
       "      <td>-0.049623</td>\n",
       "    </tr>\n",
       "    <tr>\n",
       "      <th>Three Point Attempted_Allowed</th>\n",
       "      <td>0.008572</td>\n",
       "    </tr>\n",
       "    <tr>\n",
       "      <th>Offensive Rebounds_Allowed</th>\n",
       "      <td>0.007765</td>\n",
       "    </tr>\n",
       "    <tr>\n",
       "      <th>Defensive Rebounds_Allowed</th>\n",
       "      <td>-0.004067</td>\n",
       "    </tr>\n",
       "    <tr>\n",
       "      <th>Total Rebounds_Allowed</th>\n",
       "      <td>-0.005741</td>\n",
       "    </tr>\n",
       "    <tr>\n",
       "      <th>Assists_Allowed</th>\n",
       "      <td>0.014337</td>\n",
       "    </tr>\n",
       "    <tr>\n",
       "      <th>Turnovers_Allowed</th>\n",
       "      <td>0.002851</td>\n",
       "    </tr>\n",
       "    <tr>\n",
       "      <th>Steals_Allowed</th>\n",
       "      <td>-0.005357</td>\n",
       "    </tr>\n",
       "    <tr>\n",
       "      <th>Blocks_Allowed</th>\n",
       "      <td>-0.008621</td>\n",
       "    </tr>\n",
       "    <tr>\n",
       "      <th>Fouls_Allowed</th>\n",
       "      <td>0.006624</td>\n",
       "    </tr>\n",
       "    <tr>\n",
       "      <th>Technical Fouls_Allowed</th>\n",
       "      <td>0.000687</td>\n",
       "    </tr>\n",
       "    <tr>\n",
       "      <th>Offensive_Efficiency_Allowed</th>\n",
       "      <td>-0.901076</td>\n",
       "    </tr>\n",
       "    <tr>\n",
       "      <th>Efficient Points Score_Allowed</th>\n",
       "      <td>0.054073</td>\n",
       "    </tr>\n",
       "    <tr>\n",
       "      <th>Raw EOP_Allowed</th>\n",
       "      <td>-0.020088</td>\n",
       "    </tr>\n",
       "    <tr>\n",
       "      <th>Two Points Per Attempt_Allowed</th>\n",
       "      <td>-0.088674</td>\n",
       "    </tr>\n",
       "    <tr>\n",
       "      <th>Three Points Per Attempt_Allowed</th>\n",
       "      <td>0.079942</td>\n",
       "    </tr>\n",
       "    <tr>\n",
       "      <th>Total Points Per Attempt_Allowed</th>\n",
       "      <td>0.330642</td>\n",
       "    </tr>\n",
       "    <tr>\n",
       "      <th>Scoring_Possesions_Allowed</th>\n",
       "      <td>0.019186</td>\n",
       "    </tr>\n",
       "    <tr>\n",
       "      <th>Team Play Percent_Allowed</th>\n",
       "      <td>0.271379</td>\n",
       "    </tr>\n",
       "    <tr>\n",
       "      <th>Possesions_Allowed</th>\n",
       "      <td>0.001362</td>\n",
       "    </tr>\n",
       "    <tr>\n",
       "      <th>Offensive_Efficieny_Difference</th>\n",
       "      <td>1.593747</td>\n",
       "    </tr>\n",
       "  </tbody>\n",
       "</table>\n",
       "</div>"
      ],
      "text/plain": [
       "                                         0\n",
       "Field Goals Made                  0.035916\n",
       "Field Goals Attempted            -0.004049\n",
       "Free Throws Made                  0.015912\n",
       "Free Throws Attempted             0.002183\n",
       "Three Point Made                  0.054193\n",
       "Three Point Attempted            -0.010696\n",
       "Offensive Rebounds               -0.007908\n",
       "Defensive Rebounds                0.005617\n",
       "Total Rebounds                    0.004529\n",
       "Assists                          -0.006041\n",
       "Turnovers                        -0.005016\n",
       "Steals                            0.009482\n",
       "Blocks                            0.009790\n",
       "Fouls                            -0.006172\n",
       "Technical Fouls                   0.003821\n",
       "Offensive_Efficiency              0.692671\n",
       "Efficient Points Score           -0.048501\n",
       "Raw EOP                           0.012025\n",
       "Two Points Per Attempt            0.055987\n",
       "Three Points Per Attempt         -0.136572\n",
       "Total Points Per Attempt         -0.199541\n",
       "Scoring_Possesions                0.009750\n",
       "Team Play Percent                -0.408024\n",
       "Possesions                       -0.002224\n",
       "Field Goals Made_Allowed         -0.068387\n",
       "Field Goals Attempted_Allowed     0.004871\n",
       "Free Throws Made_Allowed         -0.023851\n",
       "Free Throws Attempted_Allowed     0.000455\n",
       "Three Point Made_Allowed         -0.049623\n",
       "Three Point Attempted_Allowed     0.008572\n",
       "Offensive Rebounds_Allowed        0.007765\n",
       "Defensive Rebounds_Allowed       -0.004067\n",
       "Total Rebounds_Allowed           -0.005741\n",
       "Assists_Allowed                   0.014337\n",
       "Turnovers_Allowed                 0.002851\n",
       "Steals_Allowed                   -0.005357\n",
       "Blocks_Allowed                   -0.008621\n",
       "Fouls_Allowed                     0.006624\n",
       "Technical Fouls_Allowed           0.000687\n",
       "Offensive_Efficiency_Allowed     -0.901076\n",
       "Efficient Points Score_Allowed    0.054073\n",
       "Raw EOP_Allowed                  -0.020088\n",
       "Two Points Per Attempt_Allowed   -0.088674\n",
       "Three Points Per Attempt_Allowed  0.079942\n",
       "Total Points Per Attempt_Allowed  0.330642\n",
       "Scoring_Possesions_Allowed        0.019186\n",
       "Team Play Percent_Allowed         0.271379\n",
       "Possesions_Allowed                0.001362\n",
       "Offensive_Efficieny_Difference    1.593747"
      ]
     },
     "execution_count": 83,
     "metadata": {},
     "output_type": "execute_result"
    }
   ],
   "source": [
    "rid_coefs = rid_fit.coef_.tolist()\n",
    "col = X.columns.tolist()\n",
    "this_dict = {}\n",
    "for coef, feat in zip(rid_fit.coef_[0,:], col):\n",
    "    this_dict[feat] = coef\n",
    "\n",
    "\n",
    "pandas_frame = pd.DataFrame.from_dict(this_dict, orient = 'index')\n",
    "pandas_frame"
   ]
  }
 ],
 "metadata": {
  "kernelspec": {
   "display_name": "Python 3.9.13 64-bit (windows store)",
   "language": "python",
   "name": "python3"
  },
  "language_info": {
   "codemirror_mode": {
    "name": "ipython",
    "version": 3
   },
   "file_extension": ".py",
   "mimetype": "text/x-python",
   "name": "python",
   "nbconvert_exporter": "python",
   "pygments_lexer": "ipython3",
   "version": "3.9.13"
  },
  "orig_nbformat": 4,
  "vscode": {
   "interpreter": {
    "hash": "962c8308388b2e36ac5286e61d02c8f6b39147237a637495bfe9e261ccacccdb"
   }
  }
 },
 "nbformat": 4,
 "nbformat_minor": 2
}
