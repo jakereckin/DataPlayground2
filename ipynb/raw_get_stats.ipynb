{
 "cells": [
  {
   "cell_type": "code",
   "execution_count": 41,
   "metadata": {},
   "outputs": [],
   "source": [
    "import pandas as pd \n",
    "import numpy as np\n",
    "import seaborn as sns\n",
    "import matplotlib.pyplot as plt\n",
    "import smtplib, ssl\n",
    "from email.mime.text import MIMEText\n",
    "from email.mime.application import MIMEApplication\n",
    "from email.mime.multipart import MIMEMultipart\n",
    "import datetime \n",
    "import imaplib\n",
    "import email\n",
    "from email.header import decode_header\n",
    "import webbrowser\n",
    "import os\n"
   ]
  },
  {
   "cell_type": "code",
   "execution_count": 42,
   "metadata": {},
   "outputs": [],
   "source": [
    "username = 'jjrekn@gmail.com'\n",
    "password = 'jakepackerman'\n",
    "smtp_Object = smtplib.SMTP_SSL('smtp.gmail.com', 465)\n",
    "smtp_Object.login(username, password)\n",
    "imap = imaplib.IMAP4_SSL(\"imap.gmail.com\")\n",
    "imap.login(username, password)\n",
    "status, messages = imap.select('INBOX')"
   ]
  },
  {
   "cell_type": "code",
   "execution_count": 43,
   "metadata": {},
   "outputs": [
    {
     "ename": "TypeError",
     "evalue": "can't concat int to bytes",
     "output_type": "error",
     "traceback": [
      "\u001b[1;31m---------------------------------------------------------------------------\u001b[0m",
      "\u001b[1;31mTypeError\u001b[0m                                 Traceback (most recent call last)",
      "\u001b[1;32m<ipython-input-43-6850ff84e04c>\u001b[0m in \u001b[0;36m<module>\u001b[1;34m\u001b[0m\n\u001b[0;32m     32\u001b[0m                             \u001b[1;31m# print text/plain emails and skip attachments\u001b[0m\u001b[1;33m\u001b[0m\u001b[1;33m\u001b[0m\u001b[1;33m\u001b[0m\u001b[0m\n\u001b[0;32m     33\u001b[0m                             \u001b[0minput_data\u001b[0m\u001b[1;33m.\u001b[0m\u001b[0mappend\u001b[0m\u001b[1;33m(\u001b[0m\u001b[0mbody\u001b[0m\u001b[1;33m)\u001b[0m\u001b[1;33m\u001b[0m\u001b[1;33m\u001b[0m\u001b[0m\n\u001b[1;32m---> 34\u001b[1;33m                 \u001b[0mimap\u001b[0m\u001b[1;33m.\u001b[0m\u001b[0mstore\u001b[0m\u001b[1;33m(\u001b[0m\u001b[0mi\u001b[0m\u001b[1;33m,\u001b[0m \u001b[1;34m\"+FLAGS\"\u001b[0m\u001b[1;33m,\u001b[0m \u001b[1;34m\"\\\\Deleted\"\u001b[0m\u001b[1;33m)\u001b[0m\u001b[1;33m\u001b[0m\u001b[1;33m\u001b[0m\u001b[0m\n\u001b[0m\u001b[0;32m     35\u001b[0m \u001b[1;33m\u001b[0m\u001b[0m\n\u001b[0;32m     36\u001b[0m \u001b[0minput_data\u001b[0m \u001b[1;33m=\u001b[0m \u001b[0minput_data\u001b[0m\u001b[1;33m[\u001b[0m\u001b[1;36m0\u001b[0m\u001b[1;33m]\u001b[0m\u001b[1;33m.\u001b[0m\u001b[0msplit\u001b[0m\u001b[1;33m(\u001b[0m\u001b[1;34m'\\r\\n'\u001b[0m\u001b[1;33m)\u001b[0m\u001b[1;33m[\u001b[0m\u001b[1;33m:\u001b[0m\u001b[1;33m-\u001b[0m\u001b[1;36m1\u001b[0m\u001b[1;33m]\u001b[0m\u001b[1;33m\u001b[0m\u001b[1;33m\u001b[0m\u001b[0m\n",
      "\u001b[1;32m~\\anaconda3\\lib\\imaplib.py\u001b[0m in \u001b[0;36mstore\u001b[1;34m(self, message_set, command, flags)\u001b[0m\n\u001b[0;32m    840\u001b[0m         \u001b[1;32mif\u001b[0m \u001b[1;33m(\u001b[0m\u001b[0mflags\u001b[0m\u001b[1;33m[\u001b[0m\u001b[1;36m0\u001b[0m\u001b[1;33m]\u001b[0m\u001b[1;33m,\u001b[0m\u001b[0mflags\u001b[0m\u001b[1;33m[\u001b[0m\u001b[1;33m-\u001b[0m\u001b[1;36m1\u001b[0m\u001b[1;33m]\u001b[0m\u001b[1;33m)\u001b[0m \u001b[1;33m!=\u001b[0m \u001b[1;33m(\u001b[0m\u001b[1;34m'('\u001b[0m\u001b[1;33m,\u001b[0m\u001b[1;34m')'\u001b[0m\u001b[1;33m)\u001b[0m\u001b[1;33m:\u001b[0m\u001b[1;33m\u001b[0m\u001b[1;33m\u001b[0m\u001b[0m\n\u001b[0;32m    841\u001b[0m             \u001b[0mflags\u001b[0m \u001b[1;33m=\u001b[0m \u001b[1;34m'(%s)'\u001b[0m \u001b[1;33m%\u001b[0m \u001b[0mflags\u001b[0m  \u001b[1;31m# Avoid quoting the flags\u001b[0m\u001b[1;33m\u001b[0m\u001b[1;33m\u001b[0m\u001b[0m\n\u001b[1;32m--> 842\u001b[1;33m         \u001b[0mtyp\u001b[0m\u001b[1;33m,\u001b[0m \u001b[0mdat\u001b[0m \u001b[1;33m=\u001b[0m \u001b[0mself\u001b[0m\u001b[1;33m.\u001b[0m\u001b[0m_simple_command\u001b[0m\u001b[1;33m(\u001b[0m\u001b[1;34m'STORE'\u001b[0m\u001b[1;33m,\u001b[0m \u001b[0mmessage_set\u001b[0m\u001b[1;33m,\u001b[0m \u001b[0mcommand\u001b[0m\u001b[1;33m,\u001b[0m \u001b[0mflags\u001b[0m\u001b[1;33m)\u001b[0m\u001b[1;33m\u001b[0m\u001b[1;33m\u001b[0m\u001b[0m\n\u001b[0m\u001b[0;32m    843\u001b[0m         \u001b[1;32mreturn\u001b[0m \u001b[0mself\u001b[0m\u001b[1;33m.\u001b[0m\u001b[0m_untagged_response\u001b[0m\u001b[1;33m(\u001b[0m\u001b[0mtyp\u001b[0m\u001b[1;33m,\u001b[0m \u001b[0mdat\u001b[0m\u001b[1;33m,\u001b[0m \u001b[1;34m'FETCH'\u001b[0m\u001b[1;33m)\u001b[0m\u001b[1;33m\u001b[0m\u001b[1;33m\u001b[0m\u001b[0m\n\u001b[0;32m    844\u001b[0m \u001b[1;33m\u001b[0m\u001b[0m\n",
      "\u001b[1;32m~\\anaconda3\\lib\\imaplib.py\u001b[0m in \u001b[0;36m_simple_command\u001b[1;34m(self, name, *args)\u001b[0m\n\u001b[0;32m   1203\u001b[0m     \u001b[1;32mdef\u001b[0m \u001b[0m_simple_command\u001b[0m\u001b[1;33m(\u001b[0m\u001b[0mself\u001b[0m\u001b[1;33m,\u001b[0m \u001b[0mname\u001b[0m\u001b[1;33m,\u001b[0m \u001b[1;33m*\u001b[0m\u001b[0margs\u001b[0m\u001b[1;33m)\u001b[0m\u001b[1;33m:\u001b[0m\u001b[1;33m\u001b[0m\u001b[1;33m\u001b[0m\u001b[0m\n\u001b[0;32m   1204\u001b[0m \u001b[1;33m\u001b[0m\u001b[0m\n\u001b[1;32m-> 1205\u001b[1;33m         \u001b[1;32mreturn\u001b[0m \u001b[0mself\u001b[0m\u001b[1;33m.\u001b[0m\u001b[0m_command_complete\u001b[0m\u001b[1;33m(\u001b[0m\u001b[0mname\u001b[0m\u001b[1;33m,\u001b[0m \u001b[0mself\u001b[0m\u001b[1;33m.\u001b[0m\u001b[0m_command\u001b[0m\u001b[1;33m(\u001b[0m\u001b[0mname\u001b[0m\u001b[1;33m,\u001b[0m \u001b[1;33m*\u001b[0m\u001b[0margs\u001b[0m\u001b[1;33m)\u001b[0m\u001b[1;33m)\u001b[0m\u001b[1;33m\u001b[0m\u001b[1;33m\u001b[0m\u001b[0m\n\u001b[0m\u001b[0;32m   1206\u001b[0m \u001b[1;33m\u001b[0m\u001b[0m\n\u001b[0;32m   1207\u001b[0m \u001b[1;33m\u001b[0m\u001b[0m\n",
      "\u001b[1;32m~\\anaconda3\\lib\\imaplib.py\u001b[0m in \u001b[0;36m_command\u001b[1;34m(self, name, *args)\u001b[0m\n\u001b[0;32m    961\u001b[0m             \u001b[1;32mif\u001b[0m \u001b[0misinstance\u001b[0m\u001b[1;33m(\u001b[0m\u001b[0marg\u001b[0m\u001b[1;33m,\u001b[0m \u001b[0mstr\u001b[0m\u001b[1;33m)\u001b[0m\u001b[1;33m:\u001b[0m\u001b[1;33m\u001b[0m\u001b[1;33m\u001b[0m\u001b[0m\n\u001b[0;32m    962\u001b[0m                 \u001b[0marg\u001b[0m \u001b[1;33m=\u001b[0m \u001b[0mbytes\u001b[0m\u001b[1;33m(\u001b[0m\u001b[0marg\u001b[0m\u001b[1;33m,\u001b[0m \u001b[0mself\u001b[0m\u001b[1;33m.\u001b[0m\u001b[0m_encoding\u001b[0m\u001b[1;33m)\u001b[0m\u001b[1;33m\u001b[0m\u001b[1;33m\u001b[0m\u001b[0m\n\u001b[1;32m--> 963\u001b[1;33m             \u001b[0mdata\u001b[0m \u001b[1;33m=\u001b[0m \u001b[0mdata\u001b[0m \u001b[1;33m+\u001b[0m \u001b[1;34mb' '\u001b[0m \u001b[1;33m+\u001b[0m \u001b[0marg\u001b[0m\u001b[1;33m\u001b[0m\u001b[1;33m\u001b[0m\u001b[0m\n\u001b[0m\u001b[0;32m    964\u001b[0m \u001b[1;33m\u001b[0m\u001b[0m\n\u001b[0;32m    965\u001b[0m         \u001b[0mliteral\u001b[0m \u001b[1;33m=\u001b[0m \u001b[0mself\u001b[0m\u001b[1;33m.\u001b[0m\u001b[0mliteral\u001b[0m\u001b[1;33m\u001b[0m\u001b[1;33m\u001b[0m\u001b[0m\n",
      "\u001b[1;31mTypeError\u001b[0m: can't concat int to bytes"
     ]
    }
   ],
   "source": [
    "messages1 = int(messages[0])\n",
    "input_data = []\n",
    "for i in range(messages1, messages1-5, -1):\n",
    "    # fetch the email message by ID\n",
    "    res, msg = imap.fetch(str(i), \"(RFC822)\")\n",
    "    for response in msg:\n",
    "        if isinstance(response, tuple):\n",
    "            # parse a bytes email into a message object\n",
    "            msg = email.message_from_bytes(response[1])\n",
    "            # decode the email subject\n",
    "            subject, encoding = decode_header(msg[\"Subject\"])[0]\n",
    "            if isinstance(subject, bytes):\n",
    "                # if it's a bytes, decode to str\n",
    "                subject = subject.decode(encoding)\n",
    "            # decode email sender\n",
    "            if subject == 'Basketball Stats':\n",
    "                From, encoding = decode_header(msg.get(\"From\"))[0]\n",
    "                if isinstance(From, bytes):\n",
    "                    From = From.decode(encoding)\n",
    "                if msg.is_multipart():\n",
    "                    # iterate over email parts\n",
    "                    for part in msg.walk():\n",
    "                        # extract content type of email\n",
    "                        content_type = part.get_content_type()\n",
    "                        content_disposition = str(part.get(\"Content-Disposition\"))\n",
    "                        try:\n",
    "                            # get the email body\n",
    "                            body = part.get_payload(decode=True).decode()\n",
    "                        except:\n",
    "                            pass\n",
    "                        if content_type == \"text/plain\" and \"attachment\" not in content_disposition:\n",
    "                            # print text/plain emails and skip attachments\n",
    "                            input_data.append(body)\n",
    "\n",
    "input_data = input_data[0].split('\\r\\n')[:-1]\n",
    "input_data = [x.strip() for x in input_data if x.strip()]"
   ]
  },
  {
   "cell_type": "code",
   "execution_count": 40,
   "metadata": {},
   "outputs": [
    {
     "data": {
      "text/plain": [
       "['Half: First',\n",
       " 'FGA: 22',\n",
       " 'FGM: 5',\n",
       " 'Offensive Rebounds: 7',\n",
       " 'Assists: 1',\n",
       " 'Turnovers: 6',\n",
       " 'Points: 21',\n",
       " '2FGM: 4',\n",
       " '2FGA: 14',\n",
       " '3FGM: 1',\n",
       " '3FGA: 8',\n",
       " 'FTA: 15',\n",
       " 'FTM: 11']"
      ]
     },
     "execution_count": 40,
     "metadata": {},
     "output_type": "execute_result"
    }
   ],
   "source": [
    "input_data"
   ]
  },
  {
   "cell_type": "code",
   "execution_count": 38,
   "metadata": {},
   "outputs": [
    {
     "ename": "IndexError",
     "evalue": "list index out of range",
     "output_type": "error",
     "traceback": [
      "\u001b[1;31m---------------------------------------------------------------------------\u001b[0m",
      "\u001b[1;31mIndexError\u001b[0m                                Traceback (most recent call last)",
      "\u001b[1;32m<ipython-input-38-e9a01d8f6a2b>\u001b[0m in \u001b[0;36m<module>\u001b[1;34m\u001b[0m\n\u001b[0;32m      6\u001b[0m \u001b[1;33m\u001b[0m\u001b[0m\n\u001b[0;32m      7\u001b[0m \u001b[1;33m\u001b[0m\u001b[0m\n\u001b[1;32m----> 8\u001b[1;33m \u001b[0mdata\u001b[0m \u001b[1;33m=\u001b[0m \u001b[1;33m{\u001b[0m\u001b[0mstat\u001b[0m\u001b[1;33m[\u001b[0m\u001b[1;36m0\u001b[0m\u001b[1;33m]\u001b[0m\u001b[1;33m:\u001b[0m\u001b[0mstat\u001b[0m\u001b[1;33m[\u001b[0m\u001b[1;36m1\u001b[0m\u001b[1;33m]\u001b[0m \u001b[1;32mfor\u001b[0m \u001b[0mstat\u001b[0m \u001b[1;32min\u001b[0m \u001b[0mprocessed_data\u001b[0m\u001b[1;33m}\u001b[0m\u001b[1;33m\u001b[0m\u001b[1;33m\u001b[0m\u001b[0m\n\u001b[0m\u001b[0;32m      9\u001b[0m \u001b[0minput\u001b[0m \u001b[1;33m=\u001b[0m \u001b[0mpd\u001b[0m\u001b[1;33m.\u001b[0m\u001b[0mDataFrame\u001b[0m\u001b[1;33m(\u001b[0m\u001b[0mprocessed_data\u001b[0m\u001b[1;33m)\u001b[0m\u001b[1;33m\u001b[0m\u001b[1;33m\u001b[0m\u001b[0m\n\u001b[0;32m     10\u001b[0m \u001b[0minput\u001b[0m \u001b[1;33m=\u001b[0m \u001b[0minput\u001b[0m\u001b[1;33m.\u001b[0m\u001b[0mT\u001b[0m\u001b[1;33m\u001b[0m\u001b[1;33m\u001b[0m\u001b[0m\n",
      "\u001b[1;32m<ipython-input-38-e9a01d8f6a2b>\u001b[0m in \u001b[0;36m<dictcomp>\u001b[1;34m(.0)\u001b[0m\n\u001b[0;32m      6\u001b[0m \u001b[1;33m\u001b[0m\u001b[0m\n\u001b[0;32m      7\u001b[0m \u001b[1;33m\u001b[0m\u001b[0m\n\u001b[1;32m----> 8\u001b[1;33m \u001b[0mdata\u001b[0m \u001b[1;33m=\u001b[0m \u001b[1;33m{\u001b[0m\u001b[0mstat\u001b[0m\u001b[1;33m[\u001b[0m\u001b[1;36m0\u001b[0m\u001b[1;33m]\u001b[0m\u001b[1;33m:\u001b[0m\u001b[0mstat\u001b[0m\u001b[1;33m[\u001b[0m\u001b[1;36m1\u001b[0m\u001b[1;33m]\u001b[0m \u001b[1;32mfor\u001b[0m \u001b[0mstat\u001b[0m \u001b[1;32min\u001b[0m \u001b[0mprocessed_data\u001b[0m\u001b[1;33m}\u001b[0m\u001b[1;33m\u001b[0m\u001b[1;33m\u001b[0m\u001b[0m\n\u001b[0m\u001b[0;32m      9\u001b[0m \u001b[0minput\u001b[0m \u001b[1;33m=\u001b[0m \u001b[0mpd\u001b[0m\u001b[1;33m.\u001b[0m\u001b[0mDataFrame\u001b[0m\u001b[1;33m(\u001b[0m\u001b[0mprocessed_data\u001b[0m\u001b[1;33m)\u001b[0m\u001b[1;33m\u001b[0m\u001b[1;33m\u001b[0m\u001b[0m\n\u001b[0;32m     10\u001b[0m \u001b[0minput\u001b[0m \u001b[1;33m=\u001b[0m \u001b[0minput\u001b[0m\u001b[1;33m.\u001b[0m\u001b[0mT\u001b[0m\u001b[1;33m\u001b[0m\u001b[1;33m\u001b[0m\u001b[0m\n",
      "\u001b[1;31mIndexError\u001b[0m: list index out of range"
     ]
    }
   ],
   "source": [
    "\n",
    "processed_data = []\n",
    "for stat in range(len(input_data)):\n",
    "    new = input_data[stat].split(':')\n",
    "    processed_data.append(new)\n",
    "\n",
    "\n",
    "\n",
    "data = {stat[0]:stat[1] for stat in processed_data}\n",
    "input = pd.DataFrame(processed_data)\n",
    "input = input.T\n",
    "new_header = input.iloc[0]\n",
    "\n",
    "for col in input.columns:\n",
    "    input[col] = input[col].str.strip()\n",
    "\n",
    "input = input.rename(columns = new_header).drop(input.index[0])\n",
    "input"
   ]
  },
  {
   "cell_type": "code",
   "execution_count": null,
   "metadata": {},
   "outputs": [],
   "source": [
    "cols = ['FGM','FGA', 'Offensive Rebounds', 'Assists', 'Turnovers', 'Points', '2FGM', '2FGA', '3FGM', '3FGA', 'FTA', 'FTM']\n",
    "\n",
    "for col in cols:\n",
    "    input[col] = input[col].astype('float')\n",
    "\n",
    "if input['Half'].str == 'First':\n",
    "    for col in cols:\n",
    "        input[col] = input[col] * 2\n",
    "    else:\n",
    "        input[col]"
   ]
  },
  {
   "cell_type": "code",
   "execution_count": null,
   "metadata": {},
   "outputs": [],
   "source": [
    "def offensive_efficiency(row):\n",
    "   o_e = ((row['FGM'] + row['Assists']) / (row['FGA'] + row['Assists'] + row['Turnovers'] - row['Offensive Rebounds']))\n",
    "   return o_e\n",
    "\n",
    "# Efficient Points Scored function \n",
    "def efficient_points_scored(row):\n",
    "   e_p_s = row['Offensive_Efficiency'] * row['Points']\n",
    "   return e_p_s\n",
    "\n",
    "# Raw EOP function \n",
    "def raw_EOP(row):\n",
    "    return (.76 * (row['Assists'] + row['Points']) * row['Offensive_Efficiency'])\n",
    "\n",
    "def get_ppa_two(row):\n",
    "    total_points = 2 * row['2FGM']\n",
    "    total_attempts = row['2FGA']\n",
    "    return total_points / total_attempts\n",
    "\n",
    "def get_ppa_three(row):\n",
    "    total_points = 3 * row['3FGM']\n",
    "    total_attempts = row['3FGA']\n",
    "    return total_points / total_attempts\n",
    "\n",
    "def get_total_ppa(row):\n",
    "    total_points = 2 * row['2FGM'] + 3 * row['3FGM']\n",
    "    total_attempts = row['FGA']\n",
    "    return total_points / total_attempts\n",
    "\n",
    "def team_scoring_poss(row):\n",
    "    team_attempts = row['FGM']\n",
    "    inner_part = (1 - (1 - (row['FTM'] / row['FTA']) ** 2))\n",
    "    return team_attempts + inner_part *  row['FTA'] * 0.4\n",
    "\n",
    "def team_play_percent(row):\n",
    "    numerator = row['Scoring_Possesions']\n",
    "    denom = row['FGA'] + row['FTA'] * 0.4 + row['Turnovers']\n",
    "    return numerator / denom\n",
    "\n",
    "def possesions(row):\n",
    "    fga = row['FGA']\n",
    "    other_team_def_rebounds = (row['FGA'] - row['FGM']) - row['Offensive Rebounds']\n",
    "    reb_part = row['Offensive Rebounds']/(row['Offensive Rebounds'] + other_team_def_rebounds)\n",
    "    fg_part = row['FGA'] - row['FGM']\n",
    "    return fga - reb_part * fg_part * 1.07 + row['Turnovers'] + row['FTA'] * 0.4\n",
    "\n",
    "input['Offensive_Efficiency'] = input.apply(offensive_efficiency, axis = 1)\n",
    "input['Efficient Points Score'] = input.apply(efficient_points_scored, axis = 1)\n",
    "input['Raw EOP'] = input.apply(raw_EOP, axis = 1)\n",
    "input['Two Points Per Attempt'] = input.apply(get_ppa_two, axis = 1)\n",
    "input['Three Points Per Attempt'] = input.apply(get_ppa_three, axis = 1)\n",
    "input['Total Points Per Attempt'] = input.apply(get_total_ppa, axis = 1)\n",
    "input['Scoring_Possesions'] = input.apply(team_scoring_poss, axis = 1)\n",
    "input['Team Play Percent'] = input.apply(team_play_percent, axis = 1)\n",
    "input['Possesions'] = input.apply(possesions, axis = 1)\n",
    "\n",
    "input"
   ]
  },
  {
   "cell_type": "code",
   "execution_count": null,
   "metadata": {},
   "outputs": [],
   "source": [
    "import pickle\n",
    "def game(FieldGoalAttempts, FieldGoalsMade, OffensiveRebounds, Assists, Turnovers, PointsScored, OffensiveEfficiency, EPS, EOP):\n",
    "   \n",
    "    return np.array([FieldGoalAttempts, FieldGoalsMade, OffensiveRebounds, Assists, Turnovers, \n",
    "    OffensiveEfficiency, \n",
    "    EPS, \n",
    "    EOP,  PointsScored]).reshape(1,-1)\n",
    "\n",
    "def predict(game):\n",
    "    with open(r'C:\\Users\\Jake\\Documents\\GitHub\\FunAnalyticalStuff\\model.bin', 'rb') as f_in:\n",
    "        model = pickle.load(f_in)\n",
    "        f_in.close()\n",
    "    prediction = model.predict(game)\n",
    "    prediction = pd.DataFrame(prediction)\n",
    "    prediction = prediction.rename(columns = {0: 'Win or Loss'})\n",
    "    prediction['Win or Loss'] = prediction['Win or Loss'].apply(lambda x: 'Win' if x == 1 else 'Loss')\n",
    "    percent_chances = model.predict_proba(game)\n",
    "    percent_chances = pd.DataFrame(percent_chances)\n",
    "    percent_chances = percent_chances.rename(columns = {0: 'Loss Percent Chance', 1: 'Win Percent Chance'})\n",
    "    percent_chances['Loss Percent Chance'] = 100 * percent_chances['Loss Percent Chance']\n",
    "    percent_chances['Win Percent Chance'] = 100 * percent_chances['Win Percent Chance']\n",
    "    game_with_percent_chances = [prediction, percent_chances]\n",
    "    final_prediction = pd.concat(game_with_percent_chances, axis = 1)\n",
    "    return final_prediction\n",
    "\n",
    "\n",
    "game = game(input['FGA'], input['FGM'], input['Offensive Rebounds'], input['Assists'], input['Turnovers'], input['Points'], input['Offensive_Efficiency'], input['Efficient Points Score'], input['Raw EOP'])\n",
    "prediction = predict(game)\n",
    "input = input.drop(columns = cols)"
   ]
  },
  {
   "cell_type": "code",
   "execution_count": null,
   "metadata": {},
   "outputs": [],
   "source": [
    "concat = pd.concat([prediction, input.reset_index(drop = True)], axis = 1)\n",
    "concat"
   ]
  },
  {
   "cell_type": "code",
   "execution_count": null,
   "metadata": {},
   "outputs": [],
   "source": [
    "username = 'jjrekn@gmail.com'\n",
    "password = 'jakepackerman'\n",
    "#sms_gateway = '4029438850@txt.att.net'\n",
    "smtp_Object = smtplib.SMTP_SSL('smtp.gmail.com', 465)\n",
    "smtp_Object.login(username, password)\n",
    "\n",
    "def send_results(to, concat):\n",
    "    email = 'jjrekn@gmail.com'\n",
    "    password = 'jakepackerman'\n",
    "    #sms_gateway = '4029438850@txt.att.net'\n",
    "    smtp_Object = smtplib.SMTP_SSL('smtp.gmail.com', 465)\n",
    "    print('Logging in')\n",
    "    smtp_Object.login(email, password)\n",
    "    date = datetime.datetime.now()\n",
    "    date = date.strftime('%m %d %Y')\n",
    "    msg = MIMEMultipart()\n",
    "    subject = 'Predictions and Stats for inputted game'\n",
    "    msg['From'] = 'jjrekn@gmail.com'\n",
    "    #msg['To'] = 'morganke3524@gmail.com, jjrekn@gmail.com'\n",
    "    msg['To'] = 'jjrekn@gmail.com'\n",
    "    html1 = \"\"\"\\\n",
    "        <html>\n",
    "        <head></head>\n",
    "        <body>\n",
    "            {0}\n",
    "        </body>\n",
    "        </html>\n",
    "        \"\"\".format(concat.to_html())\n",
    "\n",
    "    print('Attach email')\n",
    "    part1 = MIMEText(html1, 'html')\n",
    "    msg.attach(part1)\n",
    "\n",
    "    print('Send email')\n",
    "    smtp_Object.sendmail(msg['From'], msg['To'].split(\",\") , msg.as_string())\n",
    "    return 'Email sent'\n",
    "\n",
    "send_results(From, concat)"
   ]
  }
 ],
 "metadata": {
  "interpreter": {
   "hash": "0d6449eff64920420901c8102b6f00a52dc7ee1bf41f3c61e5ed92e77c31d0ff"
  },
  "kernelspec": {
   "display_name": "Python 3.8.8 64-bit ('base': conda)",
   "language": "python",
   "name": "python3"
  },
  "language_info": {
   "codemirror_mode": {
    "name": "ipython",
    "version": 3
   },
   "file_extension": ".py",
   "mimetype": "text/x-python",
   "name": "python",
   "nbconvert_exporter": "python",
   "pygments_lexer": "ipython3",
   "version": "3.8.8"
  },
  "orig_nbformat": 4
 },
 "nbformat": 4,
 "nbformat_minor": 2
}
