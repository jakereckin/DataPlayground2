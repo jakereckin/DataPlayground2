{
 "cells": [
  {
   "cell_type": "code",
   "execution_count": 24,
   "metadata": {},
   "outputs": [],
   "source": [
    "import pandas as pd\n",
    "import sqlite3\n",
    "import tarfile\n",
    "import numpy as np\n",
    "import datetime as dt "
   ]
  },
  {
   "cell_type": "code",
   "execution_count": 25,
   "metadata": {},
   "outputs": [
    {
     "data": {
      "text/plain": [
       "'09/25/2022'"
      ]
     },
     "execution_count": 25,
     "metadata": {},
     "output_type": "execute_result"
    }
   ],
   "source": [
    "today = dt.datetime.today().strftime('%m/%d/%Y')\n",
    "today"
   ]
  },
  {
   "cell_type": "code",
   "execution_count": 40,
   "metadata": {},
   "outputs": [],
   "source": [
    "connect = sqlite3.connect('daily_data.db')\n",
    "cur = connect.cursor()"
   ]
  },
  {
   "cell_type": "code",
   "execution_count": 23,
   "metadata": {},
   "outputs": [
    {
     "data": {
      "text/plain": [
       "<sqlite3.Cursor at 0x1ebdcf8f650>"
      ]
     },
     "execution_count": 23,
     "metadata": {},
     "output_type": "execute_result"
    }
   ],
   "source": [
    "create_heart = \"\"\"\n",
    "CREATE TABLE heart(date, bpm, hrv)\n",
    "\"\"\"\n",
    "\n",
    "cur.execute(create_heart)"
   ]
  },
  {
   "cell_type": "code",
   "execution_count": 42,
   "metadata": {},
   "outputs": [
    {
     "data": {
      "text/plain": [
       "<sqlite3.Cursor at 0x1ebdd919730>"
      ]
     },
     "execution_count": 42,
     "metadata": {},
     "output_type": "execute_result"
    }
   ],
   "source": [
    "create_knowledge = \"\"\"\n",
    "CREATE TABLE knowledge(date, pages_read, duolingo, meditated, read_bible, prayed)\n",
    "\"\"\"\n",
    "cur.execute(create_knowledge)"
   ]
  },
  {
   "cell_type": "code",
   "execution_count": 32,
   "metadata": {},
   "outputs": [],
   "source": [
    "insert_heart = \"\"\"\n",
    "INSERT INTO heart VALUES\n",
    "(?, ?, ?)\n",
    "\"\"\"\n",
    "\n",
    "update_heart = \"\"\" \n",
    "UPDATE heart\n",
    "SET bpm = ?,\n",
    "       hrv = ?\n",
    "  WHERE date = ?\n",
    "\"\"\""
   ]
  },
  {
   "cell_type": "code",
   "execution_count": 27,
   "metadata": {},
   "outputs": [
    {
     "data": {
      "text/plain": [
       "<sqlite3.Cursor at 0x1ebdcf8f650>"
      ]
     },
     "execution_count": 27,
     "metadata": {},
     "output_type": "execute_result"
    }
   ],
   "source": [
    "heart_data = [(today, 56, 87)]\n",
    "cur.executemany(insert_heart, heart_data)"
   ]
  },
  {
   "cell_type": "code",
   "execution_count": 37,
   "metadata": {},
   "outputs": [
    {
     "data": {
      "text/plain": [
       "<sqlite3.Cursor at 0x1ebdcf8f650>"
      ]
     },
     "execution_count": 37,
     "metadata": {},
     "output_type": "execute_result"
    }
   ],
   "source": [
    "test_heart = [(56, 87, today)]\n",
    "cur.executemany(update_heart, test_heart)"
   ]
  },
  {
   "cell_type": "code",
   "execution_count": 43,
   "metadata": {},
   "outputs": [],
   "source": [
    "heart_query = \"\"\"\n",
    "SELECT *\n",
    "   FROM heart\n",
    "\"\"\"\n",
    "\n",
    "for row in cur.execute(heart_query):\n",
    "    print(row)"
   ]
  },
  {
   "cell_type": "code",
   "execution_count": 45,
   "metadata": {},
   "outputs": [],
   "source": [
    "connect.commit()\n",
    "connect.close()"
   ]
  },
  {
   "cell_type": "code",
   "execution_count": 1,
   "metadata": {},
   "outputs": [],
   "source": [
    "import nfl_data_py as nfl"
   ]
  },
  {
   "cell_type": "code",
   "execution_count": 5,
   "metadata": {},
   "outputs": [
    {
     "data": {
      "text/plain": [
       "Index(['status', 'display_name', 'first_name', 'last_name', 'esb_id',\n",
       "       'gsis_id', 'suffix', 'birth_date', 'college_name', 'position_group',\n",
       "       'position', 'jersey_number', 'height', 'weight', 'team_abbr',\n",
       "       'team_seq', 'current_team_id', 'football_name', 'entry_year',\n",
       "       'rookie_year', 'draft_club', 'college_conference',\n",
       "       'status_description_abbr', 'status_short_description', 'gsis_it_id',\n",
       "       'short_name', 'smart_id', 'headshot', 'draft_number', 'uniform_number',\n",
       "       'draft_round', 'season'],\n",
       "      dtype='object')"
      ]
     },
     "execution_count": 5,
     "metadata": {},
     "output_type": "execute_result"
    }
   ],
   "source": [
    "data = nfl.import_players()\n",
    "data.columns"
   ]
  },
  {
   "cell_type": "code",
   "execution_count": 11,
   "metadata": {},
   "outputs": [],
   "source": [
    "nfl.import_combine_data().to_csv(r'C:\\Users\\Jake\\Documents\\Grad School\\DS 745\\Project_One_Combine_Data.csv', index = False)"
   ]
  },
  {
   "cell_type": "code",
   "execution_count": 13,
   "metadata": {},
   "outputs": [],
   "source": [
    "nfl.import_draft_picks().to_csv(r'C:\\Users\\Jake\\Documents\\Grad School\\DS 745\\Project_One_Combine_Data.csv', index = False)"
   ]
  }
 ],
 "metadata": {
  "kernelspec": {
   "display_name": "Python 3.8.8 ('base')",
   "language": "python",
   "name": "python3"
  },
  "language_info": {
   "codemirror_mode": {
    "name": "ipython",
    "version": 3
   },
   "file_extension": ".py",
   "mimetype": "text/x-python",
   "name": "python",
   "nbconvert_exporter": "python",
   "pygments_lexer": "ipython3",
   "version": "3.8.8"
  },
  "orig_nbformat": 4,
  "vscode": {
   "interpreter": {
    "hash": "119404a951b6d412e328d52110be8664210c2c1c67dbae2204add742710a45f7"
   }
  }
 },
 "nbformat": 4,
 "nbformat_minor": 2
}
