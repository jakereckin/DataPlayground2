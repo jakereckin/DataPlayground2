{
 "cells": [
  {
   "cell_type": "code",
   "execution_count": 1,
   "metadata": {},
   "outputs": [],
   "source": [
    "import fitbit\n",
    "from fitbit import gather_keys_oauth2 as Oauth2\n",
    "import pandas as pd\n",
    "import datetime"
   ]
  },
  {
   "cell_type": "code",
   "execution_count": 2,
   "metadata": {},
   "outputs": [
    {
     "name": "stderr",
     "output_type": "stream",
     "text": [
      "[09/Jul/2022:15:57:05] ENGINE Listening for SIGTERM.\n",
      "[09/Jul/2022:15:57:05] ENGINE Bus STARTING\n",
      "CherryPy Checker:\n",
      "The Application mounted at '' has an empty config.\n",
      "\n",
      "[09/Jul/2022:15:57:05] ENGINE Set handler for console events.\n",
      "[09/Jul/2022:15:57:05] ENGINE Started monitor thread 'Autoreloader'.\n",
      "[09/Jul/2022:15:57:06] ENGINE Serving on http://127.0.0.1:8080\n",
      "[09/Jul/2022:15:57:06] ENGINE Bus STARTED\n"
     ]
    },
    {
     "name": "stdout",
     "output_type": "stream",
     "text": [
      "127.0.0.1 - - [09/Jul/2022:15:57:33] \"GET /?code=482ecfba7390c2d474d2224321117d9fdd2b95c3&state=4FgFORqBYuG2KsoQFVTyQp3DbNUTI4 HTTP/1.1\" 200 122 \"\" \"Mozilla/5.0 (Windows NT 10.0; Win64; x64) AppleWebKit/537.36 (KHTML, like Gecko) Chrome/103.0.0.0 Safari/537.36\"\n",
      "127.0.0.1 - - [09/Jul/2022:15:57:33] \"GET /favicon.ico HTTP/1.1\" 200 1406 \"http://127.0.0.1:8080/?code=482ecfba7390c2d474d2224321117d9fdd2b95c3&state=4FgFORqBYuG2KsoQFVTyQp3DbNUTI4\" \"Mozilla/5.0 (Windows NT 10.0; Win64; x64) AppleWebKit/537.36 (KHTML, like Gecko) Chrome/103.0.0.0 Safari/537.36\"\n"
     ]
    },
    {
     "name": "stderr",
     "output_type": "stream",
     "text": [
      "[09/Jul/2022:15:57:34] ENGINE Bus STOPPING\n",
      "[09/Jul/2022:15:57:34] ENGINE HTTP Server cherrypy._cpwsgi_server.CPWSGIServer(('127.0.0.1', 8080)) shut down\n",
      "[09/Jul/2022:15:57:34] ENGINE Removed handler for console events.\n",
      "[09/Jul/2022:15:57:34] ENGINE Stopped thread 'Autoreloader'.\n",
      "[09/Jul/2022:15:57:34] ENGINE Bus STOPPED\n",
      "[09/Jul/2022:15:57:34] ENGINE Bus EXITING\n",
      "[09/Jul/2022:15:57:34] ENGINE Bus EXITED\n",
      "[09/Jul/2022:15:57:34] ENGINE Waiting for child threads to terminate...\n"
     ]
    }
   ],
   "source": [
    "# you need to use your personal CLIENT_ID and CLIENT_SECRET\n",
    "CLIENT_ID='238LKW'\n",
    "CLIENT_SECRET='137f42147b6050f9323dbcb3f0c6fbe3'\n",
    "server=Oauth2.OAuth2Server(CLIENT_ID, CLIENT_SECRET)\n",
    "server.browser_authorize()\n",
    "\n",
    "ACCESS_TOKEN=str(server.fitbit.client.session.token['access_token'])\n",
    "REFRESH_TOKEN=str(server.fitbit.client.session.token['refresh_token'])\n",
    "\n",
    "auth2_client=fitbit.Fitbit(CLIENT_ID, CLIENT_SECRET, oauth2=True, access_token=ACCESS_TOKEN, refresh_token=REFRESH_TOKEN)"
   ]
  },
  {
   "cell_type": "code",
   "execution_count": 3,
   "metadata": {},
   "outputs": [],
   "source": [
    "auth_fit = fitbit.Fitbit(client_id = '238LKW', client_secret = '137f42147b6050f9323dbcb3f0c6fbe3')"
   ]
  },
  {
   "cell_type": "code",
   "execution_count": 4,
   "metadata": {},
   "outputs": [],
   "source": [
    "start_date = datetime.datetime(year = 2020, month = 12, day = 30)\n",
    "today = datetime.datetime.today().date()\n",
    "end_date = today - datetime.timedelta(days = 1)\n",
    "sleep_data = auth2_client.get_sleep(end_date)"
   ]
  },
  {
   "cell_type": "code",
   "execution_count": 5,
   "metadata": {},
   "outputs": [
    {
     "data": {
      "text/plain": [
       "{'sleep': [{'awakeCount': 0,\n",
       "   'awakeDuration': 0,\n",
       "   'awakeningsCount': 11,\n",
       "   'dateOfSleep': '2022-07-08',\n",
       "   'duration': 18600000,\n",
       "   'efficiency': 94,\n",
       "   'endTime': '2022-07-08T05:53:30.000',\n",
       "   'isMainSleep': True,\n",
       "   'logId': 37560671623,\n",
       "   'minutesAfterWakeup': 4,\n",
       "   'minutesAsleep': 287,\n",
       "   'minutesAwake': 19,\n",
       "   'minutesToFallAsleep': 0,\n",
       "   'restlessCount': 11,\n",
       "   'restlessDuration': 23,\n",
       "   'startTime': '2022-07-08T00:43:00.000',\n",
       "   'timeInBed': 310}],\n",
       " 'summary': {'stages': {'deep': 21, 'light': 178, 'rem': 71, 'wake': 40},\n",
       "  'totalMinutesAsleep': 287,\n",
       "  'totalSleepRecords': 1,\n",
       "  'totalTimeInBed': 310}}"
      ]
     },
     "execution_count": 5,
     "metadata": {},
     "output_type": "execute_result"
    }
   ],
   "source": [
    "full_sleep = sleep_data['sleep']\n",
    "for item in full_sleep:\n",
    "    for key, value in item.copy().items():\n",
    "        if key == 'minuteData':\n",
    "            item.pop(key)\n",
    "\n",
    "sleep_data"
   ]
  },
  {
   "cell_type": "code",
   "execution_count": 9,
   "metadata": {},
   "outputs": [
    {
     "data": {
      "text/plain": [
       "4.783333333333333"
      ]
     },
     "execution_count": 9,
     "metadata": {},
     "output_type": "execute_result"
    }
   ],
   "source": [
    "total_min_asleep = sleep_data['summary']['totalMinutesAsleep']\n",
    "hours_sleep = total_min_asleep/60\n",
    "hours_sleep"
   ]
  },
  {
   "cell_type": "code",
   "execution_count": 49,
   "metadata": {},
   "outputs": [
    {
     "ename": "TypeError",
     "evalue": "intraday_time_series() missing 1 required positional argument: 'resource'",
     "output_type": "error",
     "traceback": [
      "\u001b[1;31m---------------------------------------------------------------------------\u001b[0m",
      "\u001b[1;31mTypeError\u001b[0m                                 Traceback (most recent call last)",
      "\u001b[1;32m<ipython-input-49-eaa28a9c2df8>\u001b[0m in \u001b[0;36m<module>\u001b[1;34m\u001b[0m\n\u001b[1;32m----> 1\u001b[1;33m \u001b[0mheart_health\u001b[0m \u001b[1;33m=\u001b[0m \u001b[0mauth2_client\u001b[0m\u001b[1;33m.\u001b[0m\u001b[0mintraday_time_series\u001b[0m\u001b[1;33m(\u001b[0m\u001b[0mbase_date\u001b[0m \u001b[1;33m=\u001b[0m \u001b[0mend_date\u001b[0m\u001b[1;33m)\u001b[0m\u001b[1;33m\u001b[0m\u001b[1;33m\u001b[0m\u001b[0m\n\u001b[0m\u001b[0;32m      2\u001b[0m \u001b[0mheart_health\u001b[0m\u001b[1;33m\u001b[0m\u001b[1;33m\u001b[0m\u001b[0m\n",
      "\u001b[1;31mTypeError\u001b[0m: intraday_time_series() missing 1 required positional argument: 'resource'"
     ]
    }
   ],
   "source": [
    "heart_health = auth2_client.intraday_time_series(base_date = end_date)\n",
    "heart_health"
   ]
  }
 ],
 "metadata": {
  "kernelspec": {
   "display_name": "Python 3.8.8 ('base')",
   "language": "python",
   "name": "python3"
  },
  "language_info": {
   "codemirror_mode": {
    "name": "ipython",
    "version": 3
   },
   "file_extension": ".py",
   "mimetype": "text/x-python",
   "name": "python",
   "nbconvert_exporter": "python",
   "pygments_lexer": "ipython3",
   "version": "3.8.8"
  },
  "orig_nbformat": 4,
  "vscode": {
   "interpreter": {
    "hash": "119404a951b6d412e328d52110be8664210c2c1c67dbae2204add742710a45f7"
   }
  }
 },
 "nbformat": 4,
 "nbformat_minor": 2
}
