{
 "cells": [
  {
   "cell_type": "code",
   "execution_count": 1,
   "source": [
    "import pandas as pd \r\n",
    "import numpy as np\r\n",
    "import seaborn as sns\r\n",
    "import matplotlib.pyplot as plt\r\n",
    "import plotly.express as px"
   ],
   "outputs": [],
   "metadata": {}
  },
  {
   "cell_type": "code",
   "execution_count": 18,
   "source": [
    "def todays_runs(date, day_of_week, start_time, distance, pace, time_ran):\r\n",
    "    past_days = pd.read_csv(r'C:\\Users\\Jake\\Documents\\GitHub\\FunAnalyticalStuff\\Run_Data.csv')\r\n",
    "    to_append = past_days.values.tolist()\r\n",
    "    what_to_add = [date, day_of_week, start_time, distance, pace, time_ran]\r\n",
    "    to_append.append(what_to_add)\r\n",
    "    new_data = pd.DataFrame(data = to_append, columns = ['Date', 'Day_Of_Week', 'Time_Of_Day', 'Distance', 'Time', 'Pace'])\r\n",
    "    new_data.to_csv(r'C:\\Users\\Jake\\Documents\\GitHub\\FunAnalyticalStuff\\Run_Data.csv')\r\n",
    "    return new_data"
   ],
   "outputs": [],
   "metadata": {}
  },
  {
   "cell_type": "code",
   "execution_count": 19,
   "source": [
    "todays_runs('9/24/2021', 'Friday', '5:04', 1.2, '8:05', '10:23')"
   ],
   "outputs": [
    {
     "output_type": "execute_result",
     "data": {
      "text/html": [
       "<div>\n",
       "<style scoped>\n",
       "    .dataframe tbody tr th:only-of-type {\n",
       "        vertical-align: middle;\n",
       "    }\n",
       "\n",
       "    .dataframe tbody tr th {\n",
       "        vertical-align: top;\n",
       "    }\n",
       "\n",
       "    .dataframe thead th {\n",
       "        text-align: right;\n",
       "    }\n",
       "</style>\n",
       "<table border=\"1\" class=\"dataframe\">\n",
       "  <thead>\n",
       "    <tr style=\"text-align: right;\">\n",
       "      <th></th>\n",
       "      <th>Date</th>\n",
       "      <th>Day_Of_Week</th>\n",
       "      <th>Time_Of_Day</th>\n",
       "      <th>Distance</th>\n",
       "      <th>Time</th>\n",
       "      <th>Pace</th>\n",
       "    </tr>\n",
       "  </thead>\n",
       "  <tbody>\n",
       "    <tr>\n",
       "      <th>0</th>\n",
       "      <td>9/20/2021</td>\n",
       "      <td>Monday</td>\n",
       "      <td>5:07:00 AM</td>\n",
       "      <td>1.0</td>\n",
       "      <td>9:05</td>\n",
       "      <td>9:04</td>\n",
       "    </tr>\n",
       "    <tr>\n",
       "      <th>1</th>\n",
       "      <td>9/21/2021</td>\n",
       "      <td>Tuesday</td>\n",
       "      <td>5:02:00 AM</td>\n",
       "      <td>1.1</td>\n",
       "      <td>10:27</td>\n",
       "      <td>9:26</td>\n",
       "    </tr>\n",
       "    <tr>\n",
       "      <th>2</th>\n",
       "      <td>9/22/2021</td>\n",
       "      <td>Wednesday</td>\n",
       "      <td>5:20:00 PM</td>\n",
       "      <td>1.2</td>\n",
       "      <td>11:24</td>\n",
       "      <td>9:29</td>\n",
       "    </tr>\n",
       "    <tr>\n",
       "      <th>3</th>\n",
       "      <td>9/23/2021</td>\n",
       "      <td>Thursday</td>\n",
       "      <td>5:05:00 AM</td>\n",
       "      <td>1.0</td>\n",
       "      <td>9:16</td>\n",
       "      <td>9:10</td>\n",
       "    </tr>\n",
       "    <tr>\n",
       "      <th>4</th>\n",
       "      <td>9/24/2021</td>\n",
       "      <td>Friday</td>\n",
       "      <td>5:04</td>\n",
       "      <td>1.2</td>\n",
       "      <td>8:05</td>\n",
       "      <td>10:23</td>\n",
       "    </tr>\n",
       "  </tbody>\n",
       "</table>\n",
       "</div>"
      ],
      "text/plain": [
       "        Date Day_Of_Week Time_Of_Day  Distance   Time   Pace\n",
       "0  9/20/2021      Monday  5:07:00 AM       1.0   9:05   9:04\n",
       "1  9/21/2021     Tuesday  5:02:00 AM       1.1  10:27   9:26\n",
       "2  9/22/2021   Wednesday  5:20:00 PM       1.2  11:24   9:29\n",
       "3  9/23/2021    Thursday  5:05:00 AM       1.0   9:16   9:10\n",
       "4  9/24/2021      Friday        5:04       1.2   8:05  10:23"
      ]
     },
     "metadata": {},
     "execution_count": 19
    }
   ],
   "metadata": {}
  }
 ],
 "metadata": {
  "orig_nbformat": 4,
  "language_info": {
   "name": "python",
   "version": "3.8.8",
   "mimetype": "text/x-python",
   "codemirror_mode": {
    "name": "ipython",
    "version": 3
   },
   "pygments_lexer": "ipython3",
   "nbconvert_exporter": "python",
   "file_extension": ".py"
  },
  "kernelspec": {
   "name": "python3",
   "display_name": "Python 3.8.8 64-bit ('base': conda)"
  },
  "interpreter": {
   "hash": "0d6449eff64920420901c8102b6f00a52dc7ee1bf41f3c61e5ed92e77c31d0ff"
  }
 },
 "nbformat": 4,
 "nbformat_minor": 2
}